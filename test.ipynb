{
 "cells": [
  {
   "cell_type": "code",
   "execution_count": 7,
   "metadata": {},
   "outputs": [],
   "source": [
    "import torch\n",
    "from torch import nn"
   ]
  },
  {
   "cell_type": "code",
   "execution_count": 53,
   "metadata": {},
   "outputs": [
    {
     "name": "stdout",
     "output_type": "stream",
     "text": [
      "inp tensor([[-0.5213,  1.1920,  1.4309, -1.5409,  0.7216,  0.9579,  2.1899],\n",
      "        [ 0.3966,  0.7985,  0.3897, -0.6622, -1.6409,  1.2491,  0.0027],\n",
      "        [-1.6113, -2.5185,  0.5087,  1.4507, -0.9865,  0.6741,  0.7222]],\n",
      "       requires_grad=True)\n",
      "tar tensor([[0., 0., 0., 1., 1., 0., 0.],\n",
      "        [1., 0., 1., 1., 0., 0., 1.],\n",
      "        [1., 0., 1., 0., 1., 0., 1.]])\n",
      "\n",
      "out tensor([[0.4661, 1.4571, 1.6453, 1.7349, 0.3961, 1.2827, 2.2960],\n",
      "        [0.5144, 1.1700, 0.5171, 1.0781, 0.1771, 1.5013, 0.6918],\n",
      "        [1.7933, 0.0775, 0.4708, 1.6613, 1.3034, 1.0860, 0.3959]],\n",
      "       grad_fn=<BinaryCrossEntropyWithLogitsBackward0>)\n",
      "sof tensor([[0.0502, 0.1352, 0.1632, 0.1785, 0.0468, 0.1135, 0.3127],\n",
      "        [0.0973, 0.1874, 0.0976, 0.1710, 0.0694, 0.2611, 0.1162],\n",
      "        [0.2721, 0.0489, 0.0725, 0.2384, 0.1667, 0.1341, 0.0673]],\n",
      "       grad_fn=<SoftmaxBackward0>)\n",
      "sig tensor([[0.6145, 0.8111, 0.8383, 0.8500, 0.5977, 0.7829, 0.9085],\n",
      "        [0.6258, 0.7632, 0.6265, 0.7461, 0.5442, 0.8178, 0.6664],\n",
      "        [0.8573, 0.5194, 0.6156, 0.8404, 0.7864, 0.7476, 0.5977]],\n",
      "       grad_fn=<SigmoidBackward0>)\n",
      "\n",
      "sof arg tensor([6, 5, 0])\n",
      "sig arg tensor([6, 5, 0])\n"
     ]
    }
   ],
   "source": [
    "n_points = 3\n",
    "n_classes = 7\n",
    "loss = nn.BCEWithLogitsLoss(reduction=\"none\")\n",
    "input = torch.randn(n_points, n_classes, requires_grad=True)\n",
    "print(\"inp\", input)\n",
    "target = torch.empty(n_points, n_classes).random_(2)\n",
    "print(\"tar\", target)\n",
    "output = loss(input, target)\n",
    "#output.backward()\n",
    "print()\n",
    "print(\"out\", output)\n",
    "print(\"sof\", output.softmax(-1))\n",
    "print(\"sig\", output.sigmoid())\n",
    "print()\n",
    "\n",
    "print(\"sof arg\", output.softmax(-1).argmax(-1))\n",
    "print(\"sig arg\", output.sigmoid().argmax(-1))"
   ]
  },
  {
   "cell_type": "code",
   "execution_count": 23,
   "metadata": {},
   "outputs": [
    {
     "data": {
      "text/plain": [
       "tensor([1., 1., 1.])"
      ]
     },
     "execution_count": 23,
     "metadata": {},
     "output_type": "execute_result"
    }
   ],
   "source": [
    "target"
   ]
  },
  {
   "cell_type": "code",
   "execution_count": 15,
   "metadata": {},
   "outputs": [
    {
     "data": {
      "text/plain": [
       "tensor([0.3590, 0.4689, 0.1721], grad_fn=<SoftmaxBackward0>)"
      ]
     },
     "execution_count": 15,
     "metadata": {},
     "output_type": "execute_result"
    }
   ],
   "source": []
  },
  {
   "cell_type": "code",
   "execution_count": null,
   "metadata": {},
   "outputs": [],
   "source": []
  }
 ],
 "metadata": {
  "kernelspec": {
   "display_name": "Python 3",
   "language": "python",
   "name": "python3"
  },
  "language_info": {
   "codemirror_mode": {
    "name": "ipython",
    "version": 3
   },
   "file_extension": ".py",
   "mimetype": "text/x-python",
   "name": "python",
   "nbconvert_exporter": "python",
   "pygments_lexer": "ipython3",
   "version": "3.11.8"
  }
 },
 "nbformat": 4,
 "nbformat_minor": 2
}
